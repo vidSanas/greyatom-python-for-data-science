{
  "nbformat": 4,
  "nbformat_minor": 0,
  "metadata": {
    "kernelspec": {
      "display_name": "Python 3",
      "language": "python",
      "name": "python3"
    },
    "language_info": {
      "codemirror_mode": {
        "name": "ipython",
        "version": 3
      },
      "file_extension": ".py",
      "mimetype": "text/x-python",
      "name": "python",
      "nbconvert_exporter": "python",
      "pygments_lexer": "ipython3",
      "version": "3.6.7"
    },
    "colab": {
      "name": "Manipulating Data with NumPy Code Along.ipynb",
      "version": "0.3.2",
      "provenance": [],
      "toc_visible": true,
      "include_colab_link": true
    }
  },
  "cells": [
    {
      "cell_type": "markdown",
      "metadata": {
        "id": "view-in-github",
        "colab_type": "text"
      },
      "source": [
        "<a href=\"https://colab.research.google.com/github/vidSanas/greyatom-python-for-data-science/blob/master/Manipulating_Data_with_NumPy_Code_Along.ipynb\" target=\"_parent\"><img src=\"https://colab.research.google.com/assets/colab-badge.svg\" alt=\"Open In Colab\"/></a>"
      ]
    },
    {
      "cell_type": "markdown",
      "metadata": {
        "id": "x456oolLaT72",
        "colab_type": "text"
      },
      "source": [
        "# IPL Dataset Analysis\n",
        "\n",
        "## Problem Statement\n",
        "We want to know as to what happens during an IPL match which raises several questions in our mind with our limited knowledge about the game called cricket on which it is based. This analysis is done to know as which factors led one of the team to win and how does it matter."
      ]
    },
    {
      "cell_type": "markdown",
      "metadata": {
        "id": "fNbJUwExaT75",
        "colab_type": "text"
      },
      "source": [
        "## About the Dataset :\n",
        "The Indian Premier League (IPL) is a professional T20 cricket league in India contested during April-May of every year by teams representing Indian cities. It is the most-attended cricket league in the world and ranks sixth among all the sports leagues. It has teams with players from around the world and is very competitive and entertaining with a lot of close matches between teams.\n",
        "\n",
        "The IPL and other cricket related datasets are available at [cricsheet.org](https://cricsheet.org/%c2%a0(data). Feel free to visit the website and explore the data by yourself as exploring new sources of data is one of the interesting activities a data scientist gets to do.\n",
        "\n",
        "## About the dataset:\n",
        "Snapshot of the data you will be working on:<br>\n",
        "<br>\n",
        "The dataset 1452 data points and 23 features<br>\n",
        "\n",
        "|Features|Description|\n",
        "|-----|-----|\n",
        "|match_code|Code pertaining to individual match|\n",
        "|date|Date of the match played|\n",
        "|city|Location where the match was played|\n",
        "|team1|team1|\n",
        "|team2|team2|\n",
        "|toss_winner|Who won the toss out of two teams|\n",
        "|toss_decision|toss decision taken by toss winner|\n",
        "|winner|Winner of that match between two teams|\n",
        "|win_type|How did the team won(by wickets or runs etc.)|\n",
        "|win_margin|difference with which the team won| \n",
        "|inning|inning type(1st or 2nd)|\n",
        "|delivery|ball delivery|\n",
        "|batting_team|current team on batting|\n",
        "|batsman|current batsman on strike|\n",
        "|non_striker|batsman on non-strike|\n",
        "|bowler|Current bowler|\n",
        "|runs|runs scored|\n",
        "|extras|extra run scored|\n",
        "|total|total run scored on that delivery including runs and extras|\n",
        "|extras_type|extra run scored by wides or no ball or legby|\n",
        "|player_out|player that got out|\n",
        "|wicket_kind|How did the player got out|\n",
        "|wicket_fielders|Fielder who caught out the player by catch|\n"
      ]
    },
    {
      "cell_type": "markdown",
      "metadata": {
        "id": "-Qx7BiJXaT77",
        "colab_type": "text"
      },
      "source": [
        "### Analysing data using numpy module"
      ]
    },
    {
      "cell_type": "markdown",
      "metadata": {
        "id": "CbqVGasAaT78",
        "colab_type": "text"
      },
      "source": [
        "### Read the data using numpy module."
      ]
    },
    {
      "cell_type": "code",
      "metadata": {
        "id": "6L7CvjS8aT7-",
        "colab_type": "code",
        "colab": {}
      },
      "source": [
        "import numpy as np\n",
        "# Not every data format will be in csv there are other file formats also.\n",
        "# This exercise will help you deal with other file formats and how toa read it.\n",
        "path = './ipl_matches_small.csv'\n",
        "data_ipl = np.genfromtxt(path, delimiter=',', skip_header=1, dtype=str)\n",
        "\n"
      ],
      "execution_count": 0,
      "outputs": []
    },
    {
      "cell_type": "code",
      "metadata": {
        "id": "iR4KEGqHaT8G",
        "colab_type": "code",
        "outputId": "53c7384a-5518-4613-d1a7-34bbf826310b",
        "colab": {
          "base_uri": "https://localhost:8080/",
          "height": 136
        }
      },
      "source": [
        "print(data_ipl)"
      ],
      "execution_count": 0,
      "outputs": [
        {
          "output_type": "stream",
          "text": [
            "[['392203' '2009-05-01' 'East London' ... '' '' '']\n",
            " ['392203' '2009-05-01' 'East London' ... '' '' '']\n",
            " ['392203' '2009-05-01' 'East London' ... '' '' '']\n",
            " ...\n",
            " ['335987' '2008-04-21' 'Jaipur' ... '' '' '']\n",
            " ['335987' '2008-04-21' 'Jaipur' ... '' '' '']\n",
            " ['335987' '2008-04-21' 'Jaipur' ... '' '' '']]\n"
          ],
          "name": "stdout"
        }
      ]
    },
    {
      "cell_type": "markdown",
      "metadata": {
        "id": "A1qF3wzeaT8N",
        "colab_type": "text"
      },
      "source": [
        "### Calculate the unique no. of matches in the provided dataset ?"
      ]
    },
    {
      "cell_type": "code",
      "metadata": {
        "id": "EcVYbhCGaT8P",
        "colab_type": "code",
        "outputId": "0dfcff0a-af84-4ede-e4e2-d62c64637e9c",
        "colab": {
          "base_uri": "https://localhost:8080/",
          "height": 34
        }
      },
      "source": [
        "# How many matches were held in total we need to know so that we can analyze further statistics keeping that in mind.im\n",
        "import numpy as np\n",
        "unique_match_code=np.unique(data_ipl[:,0])\n",
        "print(unique_match_code)"
      ],
      "execution_count": 0,
      "outputs": [
        {
          "output_type": "stream",
          "text": [
            "['335987' '392197' '392203' '392212' '501226' '729297']\n"
          ],
          "name": "stdout"
        }
      ]
    },
    {
      "cell_type": "markdown",
      "metadata": {
        "id": "FS9el9-FaT8V",
        "colab_type": "text"
      },
      "source": [
        "### Find the set of all unique teams that played in the matches in the data set."
      ]
    },
    {
      "cell_type": "code",
      "metadata": {
        "id": "u-u7Asp0aT8X",
        "colab_type": "code",
        "outputId": "74c8a66b-5bf3-476b-f9ad-b1fef8642780",
        "colab": {
          "base_uri": "https://localhost:8080/",
          "height": 170
        }
      },
      "source": [
        "# this exercise deals with you getting to know that which are all those six teams that played in the tournament.\n",
        "import numpy as np\n",
        "unique_match_team3=np.unique(data_ipl[:,3])\n",
        "print(unique_match_team3)\n",
        "unique_match_team4=np.unique(data_ipl[:,4])\n",
        "print(unique_match_team4)\n",
        "\n",
        "union=np.union1d(unique_match_team3,unique_match_team4)\n",
        "print(union)\n",
        "unique=np.unique(union)\n",
        "print(unique)"
      ],
      "execution_count": 0,
      "outputs": [
        {
          "output_type": "stream",
          "text": [
            "['Chennai Super Kings' 'Deccan Chargers' 'Kolkata Knight Riders'\n",
            " 'Rajasthan Royals']\n",
            "['Chennai Super Kings' 'Kings XI Punjab' 'Mumbai Indians' 'Pune Warriors']\n",
            "['Chennai Super Kings' 'Deccan Chargers' 'Kings XI Punjab'\n",
            " 'Kolkata Knight Riders' 'Mumbai Indians' 'Pune Warriors'\n",
            " 'Rajasthan Royals']\n",
            "['Chennai Super Kings' 'Deccan Chargers' 'Kings XI Punjab'\n",
            " 'Kolkata Knight Riders' 'Mumbai Indians' 'Pune Warriors'\n",
            " 'Rajasthan Royals']\n"
          ],
          "name": "stdout"
        }
      ]
    },
    {
      "cell_type": "code",
      "metadata": {
        "id": "S1PGpCrFaT8c",
        "colab_type": "code",
        "colab": {}
      },
      "source": [
        ""
      ],
      "execution_count": 0,
      "outputs": []
    },
    {
      "cell_type": "markdown",
      "metadata": {
        "id": "-dpqDnB1aT8m",
        "colab_type": "text"
      },
      "source": [
        "### Find sum of all extras in all deliveries in all matches in the dataset"
      ]
    },
    {
      "cell_type": "code",
      "metadata": {
        "id": "LCH85HrMaT8o",
        "colab_type": "code",
        "outputId": "13344dfa-0a7d-4233-a745-c55fc82f5a9f",
        "colab": {
          "base_uri": "https://localhost:8080/",
          "height": 34
        }
      },
      "source": [
        "# An exercise to make you familiar with indexing and slicing up within data.\n",
        "import numpy as np\n",
        "extras=data_ipl[:,17]\n",
        "data=extras.astype(np.int)\n",
        "print(sum(data))\n"
      ],
      "execution_count": 0,
      "outputs": [
        {
          "output_type": "stream",
          "text": [
            "88\n"
          ],
          "name": "stdout"
        }
      ]
    },
    {
      "cell_type": "markdown",
      "metadata": {
        "id": "PO-G2aULaT8t",
        "colab_type": "text"
      },
      "source": [
        "### Get the array of all delivery numbers when a given player got out. Also mention the wicket type."
      ]
    },
    {
      "cell_type": "code",
      "metadata": {
        "id": "CywRgZp9aT8u",
        "colab_type": "code",
        "outputId": "9cc3edcc-0bb3-4183-cbaa-74549c96afb1",
        "colab": {
          "base_uri": "https://localhost:8080/",
          "height": 71
        }
      },
      "source": [
        "import numpy as np\n",
        "deliveries=[]\n",
        "wicket_type=[]\n",
        "for i in data_ipl:\n",
        "  if(i[20]!=\"\"):\n",
        "    a=i[11]\n",
        "    b=i[21]\n",
        "    deliveries.append(a)\n",
        "    wicket_type.append(b)\n",
        "print(deliveries)\n",
        "print(wicket_type)\n",
        "    \n",
        "  \n",
        "  \n",
        "  \n",
        "       \n",
        "  \n",
        "  \n",
        "    \n"
      ],
      "execution_count": 0,
      "outputs": [
        {
          "output_type": "stream",
          "text": [
            "['3.2', '5.5', '7.6', '11.4', '15.6', '18.6', '0.4', '2.2', '14.5', '17.2', '18.6', '19.3', '12.2', '13.5', '14.4', '15.1', '16.6', '18.5', '1.7', '2.7', '10.2', '12.1', '12.3', '13.2', '14.5', '15.1', '15.2', '1.5', '5.3', '9.4', '12.6', '17.1', '19.1', '1.4', '1.5', '8.5', '14.1', '15.5', '15.6', '17.1', '17.3', '5.3', '7.2', '8.2', '10.1', '11.1', '14.5', '1.3', '5.2', '6.4', '6.5', '10.5', '12.6', '13.3', '14.2', '18.3', '19.5', '9.2', '9.6', '16.4', '17.2', '17.5', '19.6', '2.4', '3.6', '4.6', '5.3', '12.6', '18.3', '18.5', '19.1', '19.2', '4.5', '6.3', '7.4', '8.6', '16.5', '17.2', '17.4', '18.6', '1.1', '2.3', '4.5', '11.2']\n",
            "['caught', 'caught', 'caught', 'bowled', 'caught', 'caught', 'bowled', 'bowled', 'caught', 'bowled', 'run out', 'caught', 'lbw', 'caught', 'caught', 'run out', 'caught', 'caught', 'caught', 'caught', 'bowled', 'caught', 'caught', 'caught', 'caught', 'bowled', 'bowled', 'caught', 'caught', 'bowled', 'bowled', 'caught', 'run out', 'caught', 'bowled', 'caught', 'caught', 'bowled', 'bowled', 'caught', 'stumped', 'caught', 'caught', 'caught', 'run out', 'caught', 'caught', 'run out', 'caught', 'caught', 'caught and bowled', 'caught', 'caught', 'caught', 'bowled', 'caught', 'run out', 'caught', 'bowled', 'stumped', 'caught', 'caught', 'caught', 'bowled', 'bowled', 'bowled', 'bowled', 'caught', 'caught', 'run out', 'run out', 'caught', 'bowled', 'caught and bowled', 'stumped', 'lbw', 'lbw', 'bowled', 'caught', 'run out', 'caught', 'caught and bowled', 'caught', 'lbw']\n"
          ],
          "name": "stdout"
        }
      ]
    },
    {
      "cell_type": "code",
      "metadata": {
        "id": "D6RkzPAYaT8z",
        "colab_type": "code",
        "colab": {}
      },
      "source": [
        ""
      ],
      "execution_count": 0,
      "outputs": []
    },
    {
      "cell_type": "markdown",
      "metadata": {
        "id": "_wBN7dHAaT9B",
        "colab_type": "text"
      },
      "source": [
        "### How many matches the team `Mumbai Indians` has won the toss?"
      ]
    },
    {
      "cell_type": "code",
      "metadata": {
        "id": "UcxBmUYBy4jx",
        "colab_type": "code",
        "outputId": "a9b848c4-fffd-4736-f8b8-307836e97b3c",
        "colab": {
          "base_uri": "https://localhost:8080/",
          "height": 51
        }
      },
      "source": [
        "data_arr=[]\n",
        "for i in data_ipl:\n",
        "  if(i[5]==\"Mumbai Indians\"):\n",
        "    data_arr.append(i[0])\n",
        "unique_match_id=np.unique(data_arr)\n",
        "print(unique_match_id)\n",
        "print(len(unique_match_id))\n",
        "    \n",
        "\n",
        "\n"
      ],
      "execution_count": 0,
      "outputs": [
        {
          "output_type": "stream",
          "text": [
            "['392197' '392203']\n",
            "2\n"
          ],
          "name": "stdout"
        }
      ]
    },
    {
      "cell_type": "markdown",
      "metadata": {
        "id": "7jNMkcEraT9K",
        "colab_type": "text"
      },
      "source": [
        "### Create a filter that filters only those records where the batsman scored 6 runs. Also who has scored the maximum no. of sixes overall ?"
      ]
    },
    {
      "cell_type": "code",
      "metadata": {
        "id": "xCUpF5hLaT9M",
        "colab_type": "code",
        "outputId": "70de6694-ca56-4387-cc3c-0dbcf1cab489",
        "colab": {
          "base_uri": "https://localhost:8080/",
          "height": 129
        }
      },
      "source": [
        "# An exercise to know who is the most aggresive player or maybe the scoring player \n",
        "import numpy as np\n",
        "arr=[]\n",
        "for i in data_ipl:\n",
        "  print(i[])\n",
        "   # print(i[14])\n",
        "  arr.append(i[16])\n",
        "  print(arr)\n",
        "  #if(arr==6):\n",
        "    #print(\"hi\")\n"
      ],
      "execution_count": 1,
      "outputs": [
        {
          "output_type": "error",
          "ename": "SyntaxError",
          "evalue": "ignored",
          "traceback": [
            "\u001b[0;36m  File \u001b[0;32m\"<ipython-input-1-b9897e5d46cf>\"\u001b[0;36m, line \u001b[0;32m4\u001b[0m\n\u001b[0;31m    print(i[])\u001b[0m\n\u001b[0m            ^\u001b[0m\n\u001b[0;31mSyntaxError\u001b[0m\u001b[0;31m:\u001b[0m invalid syntax\n"
          ]
        }
      ]
    },
    {
      "cell_type": "code",
      "metadata": {
        "id": "zht3kTcFaT9U",
        "colab_type": "code",
        "colab": {}
      },
      "source": [
        ""
      ],
      "execution_count": 0,
      "outputs": []
    }
  ]
}